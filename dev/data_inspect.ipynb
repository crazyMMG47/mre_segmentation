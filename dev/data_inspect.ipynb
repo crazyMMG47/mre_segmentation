{
 "cells": [
  {
   "cell_type": "markdown",
   "id": "e47c71c1",
   "metadata": {},
   "source": [
    "# Data Preprocessing and Augmentation Illustration"
   ]
  },
  {
   "cell_type": "code",
   "execution_count": 1,
   "id": "d182f730",
   "metadata": {},
   "outputs": [
    {
     "ename": "ModuleNotFoundError",
     "evalue": "No module named 'models.process_data.process_data'",
     "output_type": "error",
     "traceback": [
      "\u001b[0;31m---------------------------------------------------------------------------\u001b[0m",
      "\u001b[0;31mModuleNotFoundError\u001b[0m                       Traceback (most recent call last)",
      "Cell \u001b[0;32mIn[1], line 4\u001b[0m\n\u001b[1;32m      1\u001b[0m \u001b[38;5;28;01mimport\u001b[39;00m\u001b[38;5;250m \u001b[39m\u001b[38;5;21;01msys\u001b[39;00m\n\u001b[1;32m      2\u001b[0m sys\u001b[38;5;241m.\u001b[39mpath\u001b[38;5;241m.\u001b[39mappend(\u001b[38;5;124m'\u001b[39m\u001b[38;5;124m/home/smooi/Desktop/mre_segmentation\u001b[39m\u001b[38;5;124m'\u001b[39m)\n\u001b[0;32m----> 4\u001b[0m \u001b[38;5;28;01mfrom\u001b[39;00m\u001b[38;5;250m \u001b[39m\u001b[38;5;21;01mmodels\u001b[39;00m\u001b[38;5;21;01m.\u001b[39;00m\u001b[38;5;21;01mprocess_data\u001b[39;00m\u001b[38;5;21;01m.\u001b[39;00m\u001b[38;5;21;01mpair\u001b[39;00m\u001b[38;5;250m \u001b[39m\u001b[38;5;28;01mimport\u001b[39;00m \u001b[38;5;241m*\u001b[39m\n\u001b[1;32m      6\u001b[0m create_and_save_pairs(\n\u001b[1;32m      7\u001b[0m     t2_dir\u001b[38;5;241m=\u001b[39m\u001b[38;5;124m'\u001b[39m\u001b[38;5;124m/home/smooi/Desktop/toast/data/toast_pipe_data/t2stack\u001b[39m\u001b[38;5;124m'\u001b[39m,\n\u001b[1;32m      8\u001b[0m     mask_dir\u001b[38;5;241m=\u001b[39m\u001b[38;5;124m'\u001b[39m\u001b[38;5;124m/home/smooi/Desktop/toast/data/toast_pipe_data/mask\u001b[39m\u001b[38;5;124m'\u001b[39m,\n\u001b[0;32m   (...)\u001b[0m\n\u001b[1;32m     12\u001b[0m     output_file\u001b[38;5;241m=\u001b[39m\u001b[38;5;124m'\u001b[39m\u001b[38;5;124m/home/smooi/Desktop/mre_segmentation/data/pairs_mapping.json\u001b[39m\u001b[38;5;124m'\u001b[39m\n\u001b[1;32m     13\u001b[0m )\n",
      "File \u001b[0;32m~/Desktop/mre_segmentation/models/process_data/pair.py:16\u001b[0m\n\u001b[1;32m     13\u001b[0m \u001b[38;5;28;01mimport\u001b[39;00m\u001b[38;5;250m \u001b[39m\u001b[38;5;21;01mpickle\u001b[39;00m\n\u001b[1;32m     15\u001b[0m \u001b[38;5;66;03m# import module\u001b[39;00m\n\u001b[0;32m---> 16\u001b[0m \u001b[38;5;28;01mfrom\u001b[39;00m\u001b[38;5;250m \u001b[39m\u001b[38;5;21;01m.\u001b[39;00m\u001b[38;5;21;01mprocess_data\u001b[39;00m\u001b[38;5;21;01m.\u001b[39;00m\u001b[38;5;21;01mpreprocess_data\u001b[39;00m\u001b[38;5;250m \u001b[39m\u001b[38;5;28;01mimport\u001b[39;00m Preprocessor, mat_to_nii\n\u001b[1;32m     19\u001b[0m \u001b[38;5;28;01mdef\u001b[39;00m\u001b[38;5;250m \u001b[39m\u001b[38;5;21mcreate_and_save_pairs\u001b[39m(t2_dir, mask_dir, train_txt, val_txt, test_txt, output_file\u001b[38;5;241m=\u001b[39m\u001b[38;5;124m'\u001b[39m\u001b[38;5;124mpairs_mapping.json\u001b[39m\u001b[38;5;124m'\u001b[39m):\n\u001b[1;32m     20\u001b[0m \u001b[38;5;250m    \u001b[39m\u001b[38;5;124;03m\"\"\"\u001b[39;00m\n\u001b[1;32m     21\u001b[0m \u001b[38;5;124;03m    Create pairs once and save to JSON file for reuse.\u001b[39;00m\n\u001b[1;32m     22\u001b[0m \u001b[38;5;124;03m    Run this ONCE before preprocessing.\u001b[39;00m\n\u001b[1;32m     23\u001b[0m \u001b[38;5;124;03m    \"\"\"\u001b[39;00m\n",
      "\u001b[0;31mModuleNotFoundError\u001b[0m: No module named 'models.process_data.process_data'"
     ]
    }
   ],
   "source": [
    "import sys\n",
    "sys.path.append('/home/smooi/Desktop/mre_segmentation')\n",
    "\n",
    "from models.process_data.pair import *\n",
    "\n",
    "create_and_save_pairs(\n",
    "    t2_dir='/home/smooi/Desktop/toast/data/toast_pipe_data/t2stack',\n",
    "    mask_dir='/home/smooi/Desktop/toast/data/toast_pipe_data/mask',\n",
    "    train_txt='/home/smooi/Desktop/toast/data/toast_pipe_data/train.txt',\n",
    "    val_txt='/home/smooi/Desktop/toast/data/toast_pipe_data/val.txt',\n",
    "    test_txt='/home/smooi/Desktop/toast/data/toast_pipe_data/test.txt',\n",
    "    output_file='/home/smooi/Desktop/mre_segmentation/data/pairs_mapping.json'\n",
    ")\n",
    "\n",
    "\n"
   ]
  }
 ],
 "metadata": {
  "kernelspec": {
   "display_name": "torch3090",
   "language": "python",
   "name": "python3"
  },
  "language_info": {
   "codemirror_mode": {
    "name": "ipython",
    "version": 3
   },
   "file_extension": ".py",
   "mimetype": "text/x-python",
   "name": "python",
   "nbconvert_exporter": "python",
   "pygments_lexer": "ipython3",
   "version": "3.9.23"
  }
 },
 "nbformat": 4,
 "nbformat_minor": 5
}
